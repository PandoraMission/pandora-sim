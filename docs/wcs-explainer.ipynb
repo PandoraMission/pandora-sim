{
 "cells": [
  {
   "cell_type": "markdown",
   "id": "81d54bfb-6f37-4f04-9131-0fbc225eb088",
   "metadata": {},
   "source": [
    "# WCS Conventions\n",
    "\n",
    "WCS conventions are thorny, this notebook walks through some of the pitfalls."
   ]
  },
  {
   "cell_type": "code",
   "execution_count": 43,
   "id": "766f0c91-199f-4c29-97f8-f1e2530ff01b",
   "metadata": {},
   "outputs": [],
   "source": [
    "import pandorasim as psim\n",
    "import pandorasat as ps\n",
    "import numpy as np\n",
    "import astropy.units as u\n",
    "from astropy.coordinates import SkyCoord"
   ]
  },
  {
   "cell_type": "markdown",
   "id": "a7ae55a7-74f4-45bc-89d9-b5a0ea5530ba",
   "metadata": {},
   "source": [
    "## WCS Column-major indexing\n",
    "\n",
    "In Python and numpy we have Row-major indexing. When we look at the shape of a 2D array the first element is the row. When we index into the array we will obtain the row values. \n",
    "\n",
    "WCS is Column major. This means that attributes such as CRPIX are given in the order \n",
    "\n",
    "```\n",
    "    (x, y)\n",
    "```\n",
    "which we interpret as\n",
    "```\n",
    "    (column, row)\n",
    "```\n",
    "\n",
    "Functions such as `wcs.all_world2pix` return `(x, y)`, i.e. `(column, row)`\n",
    "\n",
    "It is vital that we do not get these confused. \n",
    "\n",
    "## WCS Origins\n",
    "\n",
    "WCS are written with a built in standard that the origin of the transformation is from the **middle** of the **first** pixel\n",
    "\n",
    "```\n",
    "--------------\n",
    "|            |\n",
    "|            |\n",
    "|      .     |\n",
    "|            |\n",
    "|            |\n",
    "--------------\n",
    "```\n",
    "\n",
    "What we label this origin depends on whether our coding language is 0 indexed or 1 indexed. WCS is 1 indexed. In Python we use 0 based indexing. However, in Python we would treat the origin as the lower left corner of the image, and the center of the first pixel as (0.5, 0.5). In WCS we treat the origin as the middle of the first pixel.\n",
    "\n",
    "```\n",
    "    WCS                      Python\n",
    "\n",
    "--------------            --------------\n",
    "|            |            |            |\n",
    "|            |            |            |\n",
    "|      .     |            |      .     |\n",
    "|   (1, 1)   |            | (0.5, 0.5) |\n",
    "|            |            |            |\n",
    "--------------            --------------\n",
    "```\n",
    "\n",
    "Here are the key statistics for each indexing base\n",
    "\n",
    "|                                  | 0 Index [Python] | 1 Index [Fortran]| WCS          |\n",
    "| -------------------------------- | ---------------- | ---------------- | ------------ |\n",
    "| Detector Size                    | (2048, 2048)     | (2048, 2048)     | (2048, 2048) |\n",
    "| Lower Left Corner of First Pixel | (0, 0)           | (1, 1)           | (0.5, 0.5)   |\n",
    "| Center of First pixel            | (0.5, 0.5)       | (1.5, 1.5)       | (1, 1)       |\n",
    "| Center of Detector               | (1023.5, 1023.5) | (1024.5, 1024.5) | (1024, 1024) |\n",
    "\n",
    "So for WCS, where we assume the origin of `1` corresponds to the center of the first pixel, (1024, 1024) is the center of the detector. \n",
    "\n",
    "WCS uses CRVAL and CRPIX to set the origin of the transformation. \n",
    "\n",
    "- CRVAL is the RA and Dec value at CRPIX\n",
    "- CRPIX is the Column and Row value at CRVAL\n",
    "\n",
    "## Examples\n",
    "\n",
    "We can demonstrate that we get the right answer when we translate between these two using an origin of 1, i.e. 1-based indexing. Let's use the WCS for the visible detector"
   ]
  },
  {
   "cell_type": "code",
   "execution_count": 44,
   "id": "bb07a4e9-a97c-4240-bf74-53b6d2bb17c5",
   "metadata": {},
   "outputs": [],
   "source": [
    "c = SkyCoord.from_name(\"HD209458\")\n",
    "c = ps.utils.get_sky_catalog(c.ra.deg, c.dec.deg, radius=0.015)[\"coords\"][0]\n",
    "visda = ps.VisibleDetector()\n",
    "wcs = visda.get_wcs(ra=c.ra, dec=c.dec, theta=-40*u.deg)"
   ]
  },
  {
   "cell_type": "code",
   "execution_count": 45,
   "id": "05d7469c-87bc-49e9-a64c-8ec1fdb7b1eb",
   "metadata": {},
   "outputs": [
    {
     "data": {
      "text/plain": [
       "WCS Keywords\n",
       "\n",
       "Number of WCS axes: 2\n",
       "CTYPE : 'RA---TAN-SIP' 'DEC--TAN-SIP' \n",
       "CRVAL : 330.79510746248036 18.88419298633337 \n",
       "CRPIX : 1024.0 1024.0 \n",
       "PC1_1 PC1_2  : 0.766044443118978 0.6427876096865393 \n",
       "PC2_1 PC2_2  : -0.6427876096865393 0.766044443118978 \n",
       "CDELT : -0.00021666666666666 0.000216666666666666 \n",
       "NAXIS : 2048.0  2048.0"
      ]
     },
     "execution_count": 45,
     "metadata": {},
     "output_type": "execute_result"
    }
   ],
   "source": [
    "wcs"
   ]
  },
  {
   "cell_type": "code",
   "execution_count": 46,
   "id": "4f980022-f633-4d81-a2c0-fb9ec7145867",
   "metadata": {},
   "outputs": [],
   "source": [
    "# Convert pixels to RA/Dec\n",
    "# Use the origin=1 for 1 based indexing\n",
    "ra, dec = wcs.all_pix2world(*wcs.wcs.crpix, 1)\n",
    "\n",
    "# Should match CRVAL\n",
    "assert np.isclose(ra, wcs.wcs.crval[0], rtol=1e-8)\n",
    "assert np.isclose(dec, wcs.wcs.crval[1], rtol=1e-8)"
   ]
  },
  {
   "cell_type": "code",
   "execution_count": 47,
   "id": "f965255e-d3b3-4b35-96a7-1a99374245e1",
   "metadata": {},
   "outputs": [],
   "source": [
    "# Convert RA/Dec to pixels\n",
    "# Use the origin=1 for 1 based indexing\n",
    "column, row = wcs.all_world2pix(*wcs.wcs.crval, 1)\n",
    "\n",
    "# Should match CRPIX\n",
    "assert np.isclose(column, wcs.wcs.crpix[0], atol=1e-5)\n",
    "assert np.isclose(row, wcs.wcs.crpix[1], atol=1e-5)"
   ]
  },
  {
   "cell_type": "markdown",
   "id": "00c52742-32af-49fa-9ef6-7f39d23dbe00",
   "metadata": {},
   "source": [
    "This works well. We need to be careful in general that we use 1 based indexing when we're comparing parts of the WCS. However when we state the postion of targets, we want to use Python indexing. In Python, if we wanted to find the pixel that the target lands on we would use"
   ]
  },
  {
   "cell_type": "code",
   "execution_count": 48,
   "id": "15ad0f15-436b-4b9e-9160-9e3e75539895",
   "metadata": {},
   "outputs": [
    {
     "data": {
      "text/plain": [
       "(array(1023.), array(1022.99984865))"
      ]
     },
     "execution_count": 48,
     "metadata": {},
     "output_type": "execute_result"
    }
   ],
   "source": [
    "column, row = wcs.all_world2pix(c.ra.deg, c.dec.deg, 0)\n",
    "column, row"
   ]
  },
  {
   "cell_type": "markdown",
   "id": "b66e66b8-3921-4407-bac6-4c162f07cfdb",
   "metadata": {},
   "source": [
    "However, in Python we would treat the lower left corner as the origin and not the center. To account for this we must add half a pixel. "
   ]
  },
  {
   "cell_type": "code",
   "execution_count": 49,
   "id": "e34b9b53-4c67-414e-af39-7a184c50346e",
   "metadata": {},
   "outputs": [],
   "source": [
    "column, row = wcs.all_world2pix(c.ra.deg, c.dec.deg, 0)\n",
    "column += 0.5\n",
    "row += 0.5"
   ]
  },
  {
   "cell_type": "code",
   "execution_count": 50,
   "id": "0b06d921-99b1-4e44-ad74-c267bd710cde",
   "metadata": {},
   "outputs": [
    {
     "data": {
      "text/plain": [
       "(array(1023.5), array(1023.49984865))"
      ]
     },
     "execution_count": 50,
     "metadata": {},
     "output_type": "execute_result"
    }
   ],
   "source": [
    "column, row"
   ]
  },
  {
   "cell_type": "markdown",
   "id": "ce38bbbf-f6b5-475b-90a3-16b1fc9d4d6a",
   "metadata": {},
   "source": [
    "This is now the position that the peak of the star flux would land on the detector. \n",
    "\n",
    "In the `pandorasim` tool there is a convenience function to help you convert between pixels and world coordinate space, accounting for these issues. "
   ]
  },
  {
   "cell_type": "code",
   "execution_count": 51,
   "id": "b73d645a-1c6c-4ea1-937d-94f84edb5177",
   "metadata": {},
   "outputs": [],
   "source": [
    "sim = psim.VisibleSim()\n",
    "sim.point(c.ra, c.dec, -40 * u.deg)"
   ]
  },
  {
   "cell_type": "code",
   "execution_count": 52,
   "id": "18782a8b-ef31-4cb9-86b1-b453580e1121",
   "metadata": {},
   "outputs": [
    {
     "data": {
      "text/plain": [
       "WCS Keywords\n",
       "\n",
       "Number of WCS axes: 2\n",
       "CTYPE : 'RA---TAN-SIP' 'DEC--TAN-SIP' \n",
       "CRVAL : 330.79510746248036 18.88419298633337 \n",
       "CRPIX : 1024.0 1024.0 \n",
       "PC1_1 PC1_2  : 0.766044443118978 0.6427876096865393 \n",
       "PC2_1 PC2_2  : -0.6427876096865393 0.766044443118978 \n",
       "CDELT : -0.00021666666666666 0.000216666666666666 \n",
       "NAXIS : 2048.0  2048.0"
      ]
     },
     "execution_count": 52,
     "metadata": {},
     "output_type": "execute_result"
    }
   ],
   "source": [
    "sim.wcs"
   ]
  },
  {
   "cell_type": "markdown",
   "id": "7bae0114-4505-4af9-8883-c08d3c8c783c",
   "metadata": {},
   "source": [
    "You can convert RA and Dec to row and column. When you specify `\"python\"` as the type you will obtain the position in 0 indexed pixel coordinates, where we assume the lower left corner of the first pixel is the origin."
   ]
  },
  {
   "cell_type": "code",
   "execution_count": 53,
   "id": "10b2f16e-d0f9-4e5b-a25b-1f53c01376c4",
   "metadata": {},
   "outputs": [
    {
     "data": {
      "text/latex": [
       "$[1023.4998,~1023.5] \\; \\mathrm{pix}$"
      ],
      "text/plain": [
       "<Quantity [1023.49984865, 1023.5       ] pix>"
      ]
     },
     "execution_count": 53,
     "metadata": {},
     "output_type": "execute_result"
    }
   ],
   "source": [
    "sim.world_to_pixel(ra=c.ra, dec=c.dec, type='python')"
   ]
  },
  {
   "cell_type": "markdown",
   "id": "3f06d7c9-e416-4a89-bfc0-c48085b8beb9",
   "metadata": {},
   "source": [
    "When you specify `\"wcs\"` as the type you will obtain the position in 1 indexed pixel coordinates, where we assume the middle of the first pixel is the origin."
   ]
  },
  {
   "cell_type": "code",
   "execution_count": 54,
   "id": "f088036b-38cb-4432-b879-a09bf5897d2f",
   "metadata": {},
   "outputs": [
    {
     "data": {
      "text/latex": [
       "$[1023.9998,~1024] \\; \\mathrm{pix}$"
      ],
      "text/plain": [
       "<Quantity [1023.99984865, 1024.        ] pix>"
      ]
     },
     "execution_count": 54,
     "metadata": {},
     "output_type": "execute_result"
    }
   ],
   "source": [
    "sim.world_to_pixel(ra=c.ra, dec=c.dec, type='wcs')"
   ]
  },
  {
   "cell_type": "markdown",
   "id": "5bcf6c26-d9af-419e-a03b-02d7f705ff01",
   "metadata": {},
   "source": [
    "There is an equivalent `pixel_to_world` function which will convert between pixels and RA and Dec. Note here we assume when you select `type=\"python\"` you are putting in 0 indexed pixel coordinates where the origin is the lower left corner of the first pixel."
   ]
  },
  {
   "cell_type": "code",
   "execution_count": 55,
   "id": "770039f3-52d2-47d9-9d1d-7bf676940f96",
   "metadata": {},
   "outputs": [
    {
     "data": {
      "text/latex": [
       "$[330.79511,~18.884193] \\; \\mathrm{{}^{\\circ}}$"
      ],
      "text/plain": [
       "<Quantity [330.79510744,  18.88419301] deg>"
      ]
     },
     "execution_count": 55,
     "metadata": {},
     "output_type": "execute_result"
    }
   ],
   "source": [
    "sim.pixel_to_world(row=1023.5, column=1023.5, type='python')"
   ]
  },
  {
   "cell_type": "markdown",
   "id": "b0aa3f72-dc03-4b76-8395-e34bfbe3e794",
   "metadata": {},
   "source": [
    "Equivalently we can do this with the `wcs` type, where we assume 1 indexing and the middle of the first pixel is the origin"
   ]
  },
  {
   "cell_type": "code",
   "execution_count": 56,
   "id": "7270060f-bf2f-43f8-bfa2-dc7ab2004026",
   "metadata": {},
   "outputs": [
    {
     "data": {
      "text/latex": [
       "$[330.79511,~18.884193] \\; \\mathrm{{}^{\\circ}}$"
      ],
      "text/plain": [
       "<Quantity [330.79510744,  18.88419301] deg>"
      ]
     },
     "execution_count": 56,
     "metadata": {},
     "output_type": "execute_result"
    }
   ],
   "source": [
    "sim.pixel_to_world(row=1024, column=1024, type='wcs')"
   ]
  },
  {
   "cell_type": "markdown",
   "id": "fdb64ffb-ada7-48bf-9cc2-d7685676684a",
   "metadata": {},
   "source": [
    "We can demonstate these work by showing the round trip produces the same as the input"
   ]
  },
  {
   "cell_type": "markdown",
   "id": "718c5855-22d0-4dc4-97be-f0646d503728",
   "metadata": {},
   "source": [
    "Here is the input"
   ]
  },
  {
   "cell_type": "code",
   "execution_count": 57,
   "id": "77470af2-21a8-450d-aa43-245d1d3bd0e9",
   "metadata": {},
   "outputs": [
    {
     "data": {
      "text/latex": [
       "$[330.79511,~18.884193] \\; \\mathrm{{}^{\\circ}}$"
      ],
      "text/plain": [
       "<Quantity [330.79510746,  18.88419299] deg>"
      ]
     },
     "execution_count": 57,
     "metadata": {},
     "output_type": "execute_result"
    }
   ],
   "source": [
    "np.asarray([c.ra.value, c.dec.value]) * u.deg"
   ]
  },
  {
   "cell_type": "markdown",
   "id": "f34ccab0-f9a5-457e-a64f-52c03726f5d3",
   "metadata": {},
   "source": [
    "And then the round trip"
   ]
  },
  {
   "cell_type": "code",
   "execution_count": 58,
   "id": "5f9ed0b7-4f22-4b6f-9aa0-8c4608199891",
   "metadata": {},
   "outputs": [
    {
     "data": {
      "text/latex": [
       "$[330.79511,~18.884193] \\; \\mathrm{{}^{\\circ}}$"
      ],
      "text/plain": [
       "<Quantity [330.79510746,  18.88419299] deg>"
      ]
     },
     "execution_count": 58,
     "metadata": {},
     "output_type": "execute_result"
    }
   ],
   "source": [
    "# round trip in `python`\n",
    "sim.pixel_to_world(*(sim.world_to_pixel(ra=c.ra, dec=c.dec, type='python')), type='python')"
   ]
  },
  {
   "cell_type": "code",
   "execution_count": 59,
   "id": "d0855064-cfaf-4ed0-9477-8723f3c04d13",
   "metadata": {},
   "outputs": [
    {
     "data": {
      "text/latex": [
       "$[330.79511,~18.884193] \\; \\mathrm{{}^{\\circ}}$"
      ],
      "text/plain": [
       "<Quantity [330.79510746,  18.88419299] deg>"
      ]
     },
     "execution_count": 59,
     "metadata": {},
     "output_type": "execute_result"
    }
   ],
   "source": [
    "# round trip in `wcs`\n",
    "sim.pixel_to_world(*sim.world_to_pixel(ra=c.ra, dec=c.dec, type='wcs'), type='wcs')"
   ]
  }
 ],
 "metadata": {
  "kernelspec": {
   "display_name": "Python 3 (ipykernel)",
   "language": "python",
   "name": "python3"
  },
  "language_info": {
   "codemirror_mode": {
    "name": "ipython",
    "version": 3
   },
   "file_extension": ".py",
   "mimetype": "text/x-python",
   "name": "python",
   "nbconvert_exporter": "python",
   "pygments_lexer": "ipython3",
   "version": "3.9.13"
  },
  "widgets": {
   "application/vnd.jupyter.widget-state+json": {
    "state": {},
    "version_major": 2,
    "version_minor": 0
   }
  }
 },
 "nbformat": 4,
 "nbformat_minor": 5
}
